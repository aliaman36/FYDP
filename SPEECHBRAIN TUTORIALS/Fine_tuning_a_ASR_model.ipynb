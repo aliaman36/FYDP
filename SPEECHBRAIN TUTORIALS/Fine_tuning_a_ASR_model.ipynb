{
  "nbformat": 4,
  "nbformat_minor": 0,
  "metadata": {
    "colab": {
      "provenance": [],
      "authorship_tag": "ABX9TyOh/+2LWDsH1Y/NpQdhCPCp",
      "include_colab_link": true
    },
    "kernelspec": {
      "name": "python3",
      "display_name": "Python 3"
    },
    "language_info": {
      "name": "python"
    },
    "gpuClass": "standard",
    "widgets": {
      "application/vnd.jupyter.widget-state+json": {
        "74d2456b435d41a384a0e59bead1492f": {
          "model_module": "@jupyter-widgets/controls",
          "model_name": "HBoxModel",
          "model_module_version": "1.5.0",
          "state": {
            "_dom_classes": [],
            "_model_module": "@jupyter-widgets/controls",
            "_model_module_version": "1.5.0",
            "_model_name": "HBoxModel",
            "_view_count": null,
            "_view_module": "@jupyter-widgets/controls",
            "_view_module_version": "1.5.0",
            "_view_name": "HBoxView",
            "box_style": "",
            "children": [
              "IPY_MODEL_124a19e8a61e4f4a9c3fdf0c63315e70",
              "IPY_MODEL_ec79490dcb11443ea7460251b507da28",
              "IPY_MODEL_5cb9328df096410593a83ab5364c8490"
            ],
            "layout": "IPY_MODEL_1db3a4ee87364fdbbe8781eee44a794d"
          }
        },
        "124a19e8a61e4f4a9c3fdf0c63315e70": {
          "model_module": "@jupyter-widgets/controls",
          "model_name": "HTMLModel",
          "model_module_version": "1.5.0",
          "state": {
            "_dom_classes": [],
            "_model_module": "@jupyter-widgets/controls",
            "_model_module_version": "1.5.0",
            "_model_name": "HTMLModel",
            "_view_count": null,
            "_view_module": "@jupyter-widgets/controls",
            "_view_module_version": "1.5.0",
            "_view_name": "HTMLView",
            "description": "",
            "description_tooltip": null,
            "layout": "IPY_MODEL_f88534336498419cbe73974e7520f9ea",
            "placeholder": "​",
            "style": "IPY_MODEL_ff6fffe332fa407fa76fc7b7e967bc68",
            "value": "Downloading: 100%"
          }
        },
        "ec79490dcb11443ea7460251b507da28": {
          "model_module": "@jupyter-widgets/controls",
          "model_name": "FloatProgressModel",
          "model_module_version": "1.5.0",
          "state": {
            "_dom_classes": [],
            "_model_module": "@jupyter-widgets/controls",
            "_model_module_version": "1.5.0",
            "_model_name": "FloatProgressModel",
            "_view_count": null,
            "_view_module": "@jupyter-widgets/controls",
            "_view_module_version": "1.5.0",
            "_view_name": "ProgressView",
            "bar_style": "success",
            "description": "",
            "description_tooltip": null,
            "layout": "IPY_MODEL_e89fa8b21a8b4d4c8c987d097b06ef45",
            "max": 4494,
            "min": 0,
            "orientation": "horizontal",
            "style": "IPY_MODEL_2f308cfa7a0e491ab2e97c107822368c",
            "value": 4494
          }
        },
        "5cb9328df096410593a83ab5364c8490": {
          "model_module": "@jupyter-widgets/controls",
          "model_name": "HTMLModel",
          "model_module_version": "1.5.0",
          "state": {
            "_dom_classes": [],
            "_model_module": "@jupyter-widgets/controls",
            "_model_module_version": "1.5.0",
            "_model_name": "HTMLModel",
            "_view_count": null,
            "_view_module": "@jupyter-widgets/controls",
            "_view_module_version": "1.5.0",
            "_view_name": "HTMLView",
            "description": "",
            "description_tooltip": null,
            "layout": "IPY_MODEL_57df5ade60d749a38fc846eec0fc5c6d",
            "placeholder": "​",
            "style": "IPY_MODEL_b03adfaf8ca547869a3c6cf96523c07d",
            "value": " 4.49k/4.49k [00:00&lt;00:00, 185kB/s]"
          }
        },
        "1db3a4ee87364fdbbe8781eee44a794d": {
          "model_module": "@jupyter-widgets/base",
          "model_name": "LayoutModel",
          "model_module_version": "1.2.0",
          "state": {
            "_model_module": "@jupyter-widgets/base",
            "_model_module_version": "1.2.0",
            "_model_name": "LayoutModel",
            "_view_count": null,
            "_view_module": "@jupyter-widgets/base",
            "_view_module_version": "1.2.0",
            "_view_name": "LayoutView",
            "align_content": null,
            "align_items": null,
            "align_self": null,
            "border": null,
            "bottom": null,
            "display": null,
            "flex": null,
            "flex_flow": null,
            "grid_area": null,
            "grid_auto_columns": null,
            "grid_auto_flow": null,
            "grid_auto_rows": null,
            "grid_column": null,
            "grid_gap": null,
            "grid_row": null,
            "grid_template_areas": null,
            "grid_template_columns": null,
            "grid_template_rows": null,
            "height": null,
            "justify_content": null,
            "justify_items": null,
            "left": null,
            "margin": null,
            "max_height": null,
            "max_width": null,
            "min_height": null,
            "min_width": null,
            "object_fit": null,
            "object_position": null,
            "order": null,
            "overflow": null,
            "overflow_x": null,
            "overflow_y": null,
            "padding": null,
            "right": null,
            "top": null,
            "visibility": null,
            "width": null
          }
        },
        "f88534336498419cbe73974e7520f9ea": {
          "model_module": "@jupyter-widgets/base",
          "model_name": "LayoutModel",
          "model_module_version": "1.2.0",
          "state": {
            "_model_module": "@jupyter-widgets/base",
            "_model_module_version": "1.2.0",
            "_model_name": "LayoutModel",
            "_view_count": null,
            "_view_module": "@jupyter-widgets/base",
            "_view_module_version": "1.2.0",
            "_view_name": "LayoutView",
            "align_content": null,
            "align_items": null,
            "align_self": null,
            "border": null,
            "bottom": null,
            "display": null,
            "flex": null,
            "flex_flow": null,
            "grid_area": null,
            "grid_auto_columns": null,
            "grid_auto_flow": null,
            "grid_auto_rows": null,
            "grid_column": null,
            "grid_gap": null,
            "grid_row": null,
            "grid_template_areas": null,
            "grid_template_columns": null,
            "grid_template_rows": null,
            "height": null,
            "justify_content": null,
            "justify_items": null,
            "left": null,
            "margin": null,
            "max_height": null,
            "max_width": null,
            "min_height": null,
            "min_width": null,
            "object_fit": null,
            "object_position": null,
            "order": null,
            "overflow": null,
            "overflow_x": null,
            "overflow_y": null,
            "padding": null,
            "right": null,
            "top": null,
            "visibility": null,
            "width": null
          }
        },
        "ff6fffe332fa407fa76fc7b7e967bc68": {
          "model_module": "@jupyter-widgets/controls",
          "model_name": "DescriptionStyleModel",
          "model_module_version": "1.5.0",
          "state": {
            "_model_module": "@jupyter-widgets/controls",
            "_model_module_version": "1.5.0",
            "_model_name": "DescriptionStyleModel",
            "_view_count": null,
            "_view_module": "@jupyter-widgets/base",
            "_view_module_version": "1.2.0",
            "_view_name": "StyleView",
            "description_width": ""
          }
        },
        "e89fa8b21a8b4d4c8c987d097b06ef45": {
          "model_module": "@jupyter-widgets/base",
          "model_name": "LayoutModel",
          "model_module_version": "1.2.0",
          "state": {
            "_model_module": "@jupyter-widgets/base",
            "_model_module_version": "1.2.0",
            "_model_name": "LayoutModel",
            "_view_count": null,
            "_view_module": "@jupyter-widgets/base",
            "_view_module_version": "1.2.0",
            "_view_name": "LayoutView",
            "align_content": null,
            "align_items": null,
            "align_self": null,
            "border": null,
            "bottom": null,
            "display": null,
            "flex": null,
            "flex_flow": null,
            "grid_area": null,
            "grid_auto_columns": null,
            "grid_auto_flow": null,
            "grid_auto_rows": null,
            "grid_column": null,
            "grid_gap": null,
            "grid_row": null,
            "grid_template_areas": null,
            "grid_template_columns": null,
            "grid_template_rows": null,
            "height": null,
            "justify_content": null,
            "justify_items": null,
            "left": null,
            "margin": null,
            "max_height": null,
            "max_width": null,
            "min_height": null,
            "min_width": null,
            "object_fit": null,
            "object_position": null,
            "order": null,
            "overflow": null,
            "overflow_x": null,
            "overflow_y": null,
            "padding": null,
            "right": null,
            "top": null,
            "visibility": null,
            "width": null
          }
        },
        "2f308cfa7a0e491ab2e97c107822368c": {
          "model_module": "@jupyter-widgets/controls",
          "model_name": "ProgressStyleModel",
          "model_module_version": "1.5.0",
          "state": {
            "_model_module": "@jupyter-widgets/controls",
            "_model_module_version": "1.5.0",
            "_model_name": "ProgressStyleModel",
            "_view_count": null,
            "_view_module": "@jupyter-widgets/base",
            "_view_module_version": "1.2.0",
            "_view_name": "StyleView",
            "bar_color": null,
            "description_width": ""
          }
        },
        "57df5ade60d749a38fc846eec0fc5c6d": {
          "model_module": "@jupyter-widgets/base",
          "model_name": "LayoutModel",
          "model_module_version": "1.2.0",
          "state": {
            "_model_module": "@jupyter-widgets/base",
            "_model_module_version": "1.2.0",
            "_model_name": "LayoutModel",
            "_view_count": null,
            "_view_module": "@jupyter-widgets/base",
            "_view_module_version": "1.2.0",
            "_view_name": "LayoutView",
            "align_content": null,
            "align_items": null,
            "align_self": null,
            "border": null,
            "bottom": null,
            "display": null,
            "flex": null,
            "flex_flow": null,
            "grid_area": null,
            "grid_auto_columns": null,
            "grid_auto_flow": null,
            "grid_auto_rows": null,
            "grid_column": null,
            "grid_gap": null,
            "grid_row": null,
            "grid_template_areas": null,
            "grid_template_columns": null,
            "grid_template_rows": null,
            "height": null,
            "justify_content": null,
            "justify_items": null,
            "left": null,
            "margin": null,
            "max_height": null,
            "max_width": null,
            "min_height": null,
            "min_width": null,
            "object_fit": null,
            "object_position": null,
            "order": null,
            "overflow": null,
            "overflow_x": null,
            "overflow_y": null,
            "padding": null,
            "right": null,
            "top": null,
            "visibility": null,
            "width": null
          }
        },
        "b03adfaf8ca547869a3c6cf96523c07d": {
          "model_module": "@jupyter-widgets/controls",
          "model_name": "DescriptionStyleModel",
          "model_module_version": "1.5.0",
          "state": {
            "_model_module": "@jupyter-widgets/controls",
            "_model_module_version": "1.5.0",
            "_model_name": "DescriptionStyleModel",
            "_view_count": null,
            "_view_module": "@jupyter-widgets/base",
            "_view_module_version": "1.2.0",
            "_view_name": "StyleView",
            "description_width": ""
          }
        },
        "e83502c751444db4824b1f50a3e443cb": {
          "model_module": "@jupyter-widgets/controls",
          "model_name": "HBoxModel",
          "model_module_version": "1.5.0",
          "state": {
            "_dom_classes": [],
            "_model_module": "@jupyter-widgets/controls",
            "_model_module_version": "1.5.0",
            "_model_name": "HBoxModel",
            "_view_count": null,
            "_view_module": "@jupyter-widgets/controls",
            "_view_module_version": "1.5.0",
            "_view_name": "HBoxView",
            "box_style": "",
            "children": [
              "IPY_MODEL_daff715d202d4052865242105b13744a",
              "IPY_MODEL_1d51c6176d404fc48eed66f77f9bcf4d",
              "IPY_MODEL_fd638f9c40c8442fba75290b11773b83"
            ],
            "layout": "IPY_MODEL_f0fd6ac2d0d74cc1a0b3e4084f09c4d3"
          }
        },
        "daff715d202d4052865242105b13744a": {
          "model_module": "@jupyter-widgets/controls",
          "model_name": "HTMLModel",
          "model_module_version": "1.5.0",
          "state": {
            "_dom_classes": [],
            "_model_module": "@jupyter-widgets/controls",
            "_model_module_version": "1.5.0",
            "_model_name": "HTMLModel",
            "_view_count": null,
            "_view_module": "@jupyter-widgets/controls",
            "_view_module_version": "1.5.0",
            "_view_name": "HTMLView",
            "description": "",
            "description_tooltip": null,
            "layout": "IPY_MODEL_ef4d5212db2f4763a65029c539ab7407",
            "placeholder": "​",
            "style": "IPY_MODEL_f6fc9e4e41e74fc09da797f6edc62234",
            "value": "Downloading: 100%"
          }
        },
        "1d51c6176d404fc48eed66f77f9bcf4d": {
          "model_module": "@jupyter-widgets/controls",
          "model_name": "FloatProgressModel",
          "model_module_version": "1.5.0",
          "state": {
            "_dom_classes": [],
            "_model_module": "@jupyter-widgets/controls",
            "_model_module_version": "1.5.0",
            "_model_name": "FloatProgressModel",
            "_view_count": null,
            "_view_module": "@jupyter-widgets/controls",
            "_view_module_version": "1.5.0",
            "_view_name": "ProgressView",
            "bar_style": "success",
            "description": "",
            "description_tooltip": null,
            "layout": "IPY_MODEL_223ce15f46ef496682d97d7c8f47259d",
            "max": 1409,
            "min": 0,
            "orientation": "horizontal",
            "style": "IPY_MODEL_5d726b1c27db4acc8bef79673c713998",
            "value": 1409
          }
        },
        "fd638f9c40c8442fba75290b11773b83": {
          "model_module": "@jupyter-widgets/controls",
          "model_name": "HTMLModel",
          "model_module_version": "1.5.0",
          "state": {
            "_dom_classes": [],
            "_model_module": "@jupyter-widgets/controls",
            "_model_module_version": "1.5.0",
            "_model_name": "HTMLModel",
            "_view_count": null,
            "_view_module": "@jupyter-widgets/controls",
            "_view_module_version": "1.5.0",
            "_view_name": "HTMLView",
            "description": "",
            "description_tooltip": null,
            "layout": "IPY_MODEL_aef06712ca2144848bfb2912932d0b5c",
            "placeholder": "​",
            "style": "IPY_MODEL_042be778084f421bb2f9c72628877109",
            "value": " 1.41k/1.41k [00:00&lt;00:00, 44.8kB/s]"
          }
        },
        "f0fd6ac2d0d74cc1a0b3e4084f09c4d3": {
          "model_module": "@jupyter-widgets/base",
          "model_name": "LayoutModel",
          "model_module_version": "1.2.0",
          "state": {
            "_model_module": "@jupyter-widgets/base",
            "_model_module_version": "1.2.0",
            "_model_name": "LayoutModel",
            "_view_count": null,
            "_view_module": "@jupyter-widgets/base",
            "_view_module_version": "1.2.0",
            "_view_name": "LayoutView",
            "align_content": null,
            "align_items": null,
            "align_self": null,
            "border": null,
            "bottom": null,
            "display": null,
            "flex": null,
            "flex_flow": null,
            "grid_area": null,
            "grid_auto_columns": null,
            "grid_auto_flow": null,
            "grid_auto_rows": null,
            "grid_column": null,
            "grid_gap": null,
            "grid_row": null,
            "grid_template_areas": null,
            "grid_template_columns": null,
            "grid_template_rows": null,
            "height": null,
            "justify_content": null,
            "justify_items": null,
            "left": null,
            "margin": null,
            "max_height": null,
            "max_width": null,
            "min_height": null,
            "min_width": null,
            "object_fit": null,
            "object_position": null,
            "order": null,
            "overflow": null,
            "overflow_x": null,
            "overflow_y": null,
            "padding": null,
            "right": null,
            "top": null,
            "visibility": null,
            "width": null
          }
        },
        "ef4d5212db2f4763a65029c539ab7407": {
          "model_module": "@jupyter-widgets/base",
          "model_name": "LayoutModel",
          "model_module_version": "1.2.0",
          "state": {
            "_model_module": "@jupyter-widgets/base",
            "_model_module_version": "1.2.0",
            "_model_name": "LayoutModel",
            "_view_count": null,
            "_view_module": "@jupyter-widgets/base",
            "_view_module_version": "1.2.0",
            "_view_name": "LayoutView",
            "align_content": null,
            "align_items": null,
            "align_self": null,
            "border": null,
            "bottom": null,
            "display": null,
            "flex": null,
            "flex_flow": null,
            "grid_area": null,
            "grid_auto_columns": null,
            "grid_auto_flow": null,
            "grid_auto_rows": null,
            "grid_column": null,
            "grid_gap": null,
            "grid_row": null,
            "grid_template_areas": null,
            "grid_template_columns": null,
            "grid_template_rows": null,
            "height": null,
            "justify_content": null,
            "justify_items": null,
            "left": null,
            "margin": null,
            "max_height": null,
            "max_width": null,
            "min_height": null,
            "min_width": null,
            "object_fit": null,
            "object_position": null,
            "order": null,
            "overflow": null,
            "overflow_x": null,
            "overflow_y": null,
            "padding": null,
            "right": null,
            "top": null,
            "visibility": null,
            "width": null
          }
        },
        "f6fc9e4e41e74fc09da797f6edc62234": {
          "model_module": "@jupyter-widgets/controls",
          "model_name": "DescriptionStyleModel",
          "model_module_version": "1.5.0",
          "state": {
            "_model_module": "@jupyter-widgets/controls",
            "_model_module_version": "1.5.0",
            "_model_name": "DescriptionStyleModel",
            "_view_count": null,
            "_view_module": "@jupyter-widgets/base",
            "_view_module_version": "1.2.0",
            "_view_name": "StyleView",
            "description_width": ""
          }
        },
        "223ce15f46ef496682d97d7c8f47259d": {
          "model_module": "@jupyter-widgets/base",
          "model_name": "LayoutModel",
          "model_module_version": "1.2.0",
          "state": {
            "_model_module": "@jupyter-widgets/base",
            "_model_module_version": "1.2.0",
            "_model_name": "LayoutModel",
            "_view_count": null,
            "_view_module": "@jupyter-widgets/base",
            "_view_module_version": "1.2.0",
            "_view_name": "LayoutView",
            "align_content": null,
            "align_items": null,
            "align_self": null,
            "border": null,
            "bottom": null,
            "display": null,
            "flex": null,
            "flex_flow": null,
            "grid_area": null,
            "grid_auto_columns": null,
            "grid_auto_flow": null,
            "grid_auto_rows": null,
            "grid_column": null,
            "grid_gap": null,
            "grid_row": null,
            "grid_template_areas": null,
            "grid_template_columns": null,
            "grid_template_rows": null,
            "height": null,
            "justify_content": null,
            "justify_items": null,
            "left": null,
            "margin": null,
            "max_height": null,
            "max_width": null,
            "min_height": null,
            "min_width": null,
            "object_fit": null,
            "object_position": null,
            "order": null,
            "overflow": null,
            "overflow_x": null,
            "overflow_y": null,
            "padding": null,
            "right": null,
            "top": null,
            "visibility": null,
            "width": null
          }
        },
        "5d726b1c27db4acc8bef79673c713998": {
          "model_module": "@jupyter-widgets/controls",
          "model_name": "ProgressStyleModel",
          "model_module_version": "1.5.0",
          "state": {
            "_model_module": "@jupyter-widgets/controls",
            "_model_module_version": "1.5.0",
            "_model_name": "ProgressStyleModel",
            "_view_count": null,
            "_view_module": "@jupyter-widgets/base",
            "_view_module_version": "1.2.0",
            "_view_name": "StyleView",
            "bar_color": null,
            "description_width": ""
          }
        },
        "aef06712ca2144848bfb2912932d0b5c": {
          "model_module": "@jupyter-widgets/base",
          "model_name": "LayoutModel",
          "model_module_version": "1.2.0",
          "state": {
            "_model_module": "@jupyter-widgets/base",
            "_model_module_version": "1.2.0",
            "_model_name": "LayoutModel",
            "_view_count": null,
            "_view_module": "@jupyter-widgets/base",
            "_view_module_version": "1.2.0",
            "_view_name": "LayoutView",
            "align_content": null,
            "align_items": null,
            "align_self": null,
            "border": null,
            "bottom": null,
            "display": null,
            "flex": null,
            "flex_flow": null,
            "grid_area": null,
            "grid_auto_columns": null,
            "grid_auto_flow": null,
            "grid_auto_rows": null,
            "grid_column": null,
            "grid_gap": null,
            "grid_row": null,
            "grid_template_areas": null,
            "grid_template_columns": null,
            "grid_template_rows": null,
            "height": null,
            "justify_content": null,
            "justify_items": null,
            "left": null,
            "margin": null,
            "max_height": null,
            "max_width": null,
            "min_height": null,
            "min_width": null,
            "object_fit": null,
            "object_position": null,
            "order": null,
            "overflow": null,
            "overflow_x": null,
            "overflow_y": null,
            "padding": null,
            "right": null,
            "top": null,
            "visibility": null,
            "width": null
          }
        },
        "042be778084f421bb2f9c72628877109": {
          "model_module": "@jupyter-widgets/controls",
          "model_name": "DescriptionStyleModel",
          "model_module_version": "1.5.0",
          "state": {
            "_model_module": "@jupyter-widgets/controls",
            "_model_module_version": "1.5.0",
            "_model_name": "DescriptionStyleModel",
            "_view_count": null,
            "_view_module": "@jupyter-widgets/base",
            "_view_module_version": "1.2.0",
            "_view_name": "StyleView",
            "description_width": ""
          }
        },
        "99a2d1b044254c58aeb87193ec364e76": {
          "model_module": "@jupyter-widgets/controls",
          "model_name": "HBoxModel",
          "model_module_version": "1.5.0",
          "state": {
            "_dom_classes": [],
            "_model_module": "@jupyter-widgets/controls",
            "_model_module_version": "1.5.0",
            "_model_name": "HBoxModel",
            "_view_count": null,
            "_view_module": "@jupyter-widgets/controls",
            "_view_module_version": "1.5.0",
            "_view_name": "HBoxView",
            "box_style": "",
            "children": [
              "IPY_MODEL_4adfdd7bf73e4f8495c0be64911ce430",
              "IPY_MODEL_4918b4cc92514280a4f61e0a9c8da198",
              "IPY_MODEL_a17d5acefc85475dbe2375edf18b996c"
            ],
            "layout": "IPY_MODEL_31d7d7ff5e58419f8d3ea6f7e26635ce"
          }
        },
        "4adfdd7bf73e4f8495c0be64911ce430": {
          "model_module": "@jupyter-widgets/controls",
          "model_name": "HTMLModel",
          "model_module_version": "1.5.0",
          "state": {
            "_dom_classes": [],
            "_model_module": "@jupyter-widgets/controls",
            "_model_module_version": "1.5.0",
            "_model_name": "HTMLModel",
            "_view_count": null,
            "_view_module": "@jupyter-widgets/controls",
            "_view_module_version": "1.5.0",
            "_view_name": "HTMLView",
            "description": "",
            "description_tooltip": null,
            "layout": "IPY_MODEL_a5cbb336e076413d9ecf4e50767c87c7",
            "placeholder": "​",
            "style": "IPY_MODEL_720af34814a84110a2ea39834828c904",
            "value": "Downloading: 100%"
          }
        },
        "4918b4cc92514280a4f61e0a9c8da198": {
          "model_module": "@jupyter-widgets/controls",
          "model_name": "FloatProgressModel",
          "model_module_version": "1.5.0",
          "state": {
            "_dom_classes": [],
            "_model_module": "@jupyter-widgets/controls",
            "_model_module_version": "1.5.0",
            "_model_name": "FloatProgressModel",
            "_view_count": null,
            "_view_module": "@jupyter-widgets/controls",
            "_view_module_version": "1.5.0",
            "_view_name": "ProgressView",
            "bar_style": "success",
            "description": "",
            "description_tooltip": null,
            "layout": "IPY_MODEL_f983341c6b5e4194804256b146ca2775",
            "max": 479555971,
            "min": 0,
            "orientation": "horizontal",
            "style": "IPY_MODEL_acb096c06fac4bbba6d46fe0c5a203c7",
            "value": 479555971
          }
        },
        "a17d5acefc85475dbe2375edf18b996c": {
          "model_module": "@jupyter-widgets/controls",
          "model_name": "HTMLModel",
          "model_module_version": "1.5.0",
          "state": {
            "_dom_classes": [],
            "_model_module": "@jupyter-widgets/controls",
            "_model_module_version": "1.5.0",
            "_model_name": "HTMLModel",
            "_view_count": null,
            "_view_module": "@jupyter-widgets/controls",
            "_view_module_version": "1.5.0",
            "_view_name": "HTMLView",
            "description": "",
            "description_tooltip": null,
            "layout": "IPY_MODEL_d1770308aac0490a956b71f3ea049543",
            "placeholder": "​",
            "style": "IPY_MODEL_b1aaee19358d46b38ff7df56be334e66",
            "value": " 480M/480M [00:07&lt;00:00, 62.0MB/s]"
          }
        },
        "31d7d7ff5e58419f8d3ea6f7e26635ce": {
          "model_module": "@jupyter-widgets/base",
          "model_name": "LayoutModel",
          "model_module_version": "1.2.0",
          "state": {
            "_model_module": "@jupyter-widgets/base",
            "_model_module_version": "1.2.0",
            "_model_name": "LayoutModel",
            "_view_count": null,
            "_view_module": "@jupyter-widgets/base",
            "_view_module_version": "1.2.0",
            "_view_name": "LayoutView",
            "align_content": null,
            "align_items": null,
            "align_self": null,
            "border": null,
            "bottom": null,
            "display": null,
            "flex": null,
            "flex_flow": null,
            "grid_area": null,
            "grid_auto_columns": null,
            "grid_auto_flow": null,
            "grid_auto_rows": null,
            "grid_column": null,
            "grid_gap": null,
            "grid_row": null,
            "grid_template_areas": null,
            "grid_template_columns": null,
            "grid_template_rows": null,
            "height": null,
            "justify_content": null,
            "justify_items": null,
            "left": null,
            "margin": null,
            "max_height": null,
            "max_width": null,
            "min_height": null,
            "min_width": null,
            "object_fit": null,
            "object_position": null,
            "order": null,
            "overflow": null,
            "overflow_x": null,
            "overflow_y": null,
            "padding": null,
            "right": null,
            "top": null,
            "visibility": null,
            "width": null
          }
        },
        "a5cbb336e076413d9ecf4e50767c87c7": {
          "model_module": "@jupyter-widgets/base",
          "model_name": "LayoutModel",
          "model_module_version": "1.2.0",
          "state": {
            "_model_module": "@jupyter-widgets/base",
            "_model_module_version": "1.2.0",
            "_model_name": "LayoutModel",
            "_view_count": null,
            "_view_module": "@jupyter-widgets/base",
            "_view_module_version": "1.2.0",
            "_view_name": "LayoutView",
            "align_content": null,
            "align_items": null,
            "align_self": null,
            "border": null,
            "bottom": null,
            "display": null,
            "flex": null,
            "flex_flow": null,
            "grid_area": null,
            "grid_auto_columns": null,
            "grid_auto_flow": null,
            "grid_auto_rows": null,
            "grid_column": null,
            "grid_gap": null,
            "grid_row": null,
            "grid_template_areas": null,
            "grid_template_columns": null,
            "grid_template_rows": null,
            "height": null,
            "justify_content": null,
            "justify_items": null,
            "left": null,
            "margin": null,
            "max_height": null,
            "max_width": null,
            "min_height": null,
            "min_width": null,
            "object_fit": null,
            "object_position": null,
            "order": null,
            "overflow": null,
            "overflow_x": null,
            "overflow_y": null,
            "padding": null,
            "right": null,
            "top": null,
            "visibility": null,
            "width": null
          }
        },
        "720af34814a84110a2ea39834828c904": {
          "model_module": "@jupyter-widgets/controls",
          "model_name": "DescriptionStyleModel",
          "model_module_version": "1.5.0",
          "state": {
            "_model_module": "@jupyter-widgets/controls",
            "_model_module_version": "1.5.0",
            "_model_name": "DescriptionStyleModel",
            "_view_count": null,
            "_view_module": "@jupyter-widgets/base",
            "_view_module_version": "1.2.0",
            "_view_name": "StyleView",
            "description_width": ""
          }
        },
        "f983341c6b5e4194804256b146ca2775": {
          "model_module": "@jupyter-widgets/base",
          "model_name": "LayoutModel",
          "model_module_version": "1.2.0",
          "state": {
            "_model_module": "@jupyter-widgets/base",
            "_model_module_version": "1.2.0",
            "_model_name": "LayoutModel",
            "_view_count": null,
            "_view_module": "@jupyter-widgets/base",
            "_view_module_version": "1.2.0",
            "_view_name": "LayoutView",
            "align_content": null,
            "align_items": null,
            "align_self": null,
            "border": null,
            "bottom": null,
            "display": null,
            "flex": null,
            "flex_flow": null,
            "grid_area": null,
            "grid_auto_columns": null,
            "grid_auto_flow": null,
            "grid_auto_rows": null,
            "grid_column": null,
            "grid_gap": null,
            "grid_row": null,
            "grid_template_areas": null,
            "grid_template_columns": null,
            "grid_template_rows": null,
            "height": null,
            "justify_content": null,
            "justify_items": null,
            "left": null,
            "margin": null,
            "max_height": null,
            "max_width": null,
            "min_height": null,
            "min_width": null,
            "object_fit": null,
            "object_position": null,
            "order": null,
            "overflow": null,
            "overflow_x": null,
            "overflow_y": null,
            "padding": null,
            "right": null,
            "top": null,
            "visibility": null,
            "width": null
          }
        },
        "acb096c06fac4bbba6d46fe0c5a203c7": {
          "model_module": "@jupyter-widgets/controls",
          "model_name": "ProgressStyleModel",
          "model_module_version": "1.5.0",
          "state": {
            "_model_module": "@jupyter-widgets/controls",
            "_model_module_version": "1.5.0",
            "_model_name": "ProgressStyleModel",
            "_view_count": null,
            "_view_module": "@jupyter-widgets/base",
            "_view_module_version": "1.2.0",
            "_view_name": "StyleView",
            "bar_color": null,
            "description_width": ""
          }
        },
        "d1770308aac0490a956b71f3ea049543": {
          "model_module": "@jupyter-widgets/base",
          "model_name": "LayoutModel",
          "model_module_version": "1.2.0",
          "state": {
            "_model_module": "@jupyter-widgets/base",
            "_model_module_version": "1.2.0",
            "_model_name": "LayoutModel",
            "_view_count": null,
            "_view_module": "@jupyter-widgets/base",
            "_view_module_version": "1.2.0",
            "_view_name": "LayoutView",
            "align_content": null,
            "align_items": null,
            "align_self": null,
            "border": null,
            "bottom": null,
            "display": null,
            "flex": null,
            "flex_flow": null,
            "grid_area": null,
            "grid_auto_columns": null,
            "grid_auto_flow": null,
            "grid_auto_rows": null,
            "grid_column": null,
            "grid_gap": null,
            "grid_row": null,
            "grid_template_areas": null,
            "grid_template_columns": null,
            "grid_template_rows": null,
            "height": null,
            "justify_content": null,
            "justify_items": null,
            "left": null,
            "margin": null,
            "max_height": null,
            "max_width": null,
            "min_height": null,
            "min_width": null,
            "object_fit": null,
            "object_position": null,
            "order": null,
            "overflow": null,
            "overflow_x": null,
            "overflow_y": null,
            "padding": null,
            "right": null,
            "top": null,
            "visibility": null,
            "width": null
          }
        },
        "b1aaee19358d46b38ff7df56be334e66": {
          "model_module": "@jupyter-widgets/controls",
          "model_name": "DescriptionStyleModel",
          "model_module_version": "1.5.0",
          "state": {
            "_model_module": "@jupyter-widgets/controls",
            "_model_module_version": "1.5.0",
            "_model_name": "DescriptionStyleModel",
            "_view_count": null,
            "_view_module": "@jupyter-widgets/base",
            "_view_module_version": "1.2.0",
            "_view_name": "StyleView",
            "description_width": ""
          }
        },
        "ae8644d57689497ab4fbae3febaaf33b": {
          "model_module": "@jupyter-widgets/controls",
          "model_name": "HBoxModel",
          "model_module_version": "1.5.0",
          "state": {
            "_dom_classes": [],
            "_model_module": "@jupyter-widgets/controls",
            "_model_module_version": "1.5.0",
            "_model_name": "HBoxModel",
            "_view_count": null,
            "_view_module": "@jupyter-widgets/controls",
            "_view_module_version": "1.5.0",
            "_view_name": "HBoxView",
            "box_style": "",
            "children": [
              "IPY_MODEL_c63c252a3d0b406bbfbd7e634aa33fea",
              "IPY_MODEL_04957a73980e446f90255bc4656f5c9f",
              "IPY_MODEL_8804cbc322bf41b59f55001a9197d590"
            ],
            "layout": "IPY_MODEL_cd5ba72a3b71438498ec3042a62597ec"
          }
        },
        "c63c252a3d0b406bbfbd7e634aa33fea": {
          "model_module": "@jupyter-widgets/controls",
          "model_name": "HTMLModel",
          "model_module_version": "1.5.0",
          "state": {
            "_dom_classes": [],
            "_model_module": "@jupyter-widgets/controls",
            "_model_module_version": "1.5.0",
            "_model_name": "HTMLModel",
            "_view_count": null,
            "_view_module": "@jupyter-widgets/controls",
            "_view_module_version": "1.5.0",
            "_view_name": "HTMLView",
            "description": "",
            "description_tooltip": null,
            "layout": "IPY_MODEL_24869e7fde0b4b99874c323cf2061ec1",
            "placeholder": "​",
            "style": "IPY_MODEL_02cecdaf2d8c4243a7d50bc61d41ad7a",
            "value": "Downloading: 100%"
          }
        },
        "04957a73980e446f90255bc4656f5c9f": {
          "model_module": "@jupyter-widgets/controls",
          "model_name": "FloatProgressModel",
          "model_module_version": "1.5.0",
          "state": {
            "_dom_classes": [],
            "_model_module": "@jupyter-widgets/controls",
            "_model_module_version": "1.5.0",
            "_model_name": "FloatProgressModel",
            "_view_count": null,
            "_view_module": "@jupyter-widgets/controls",
            "_view_module_version": "1.5.0",
            "_view_name": "ProgressView",
            "bar_style": "success",
            "description": "",
            "description_tooltip": null,
            "layout": "IPY_MODEL_4cd70808a99f451a9172705fad08fee2",
            "max": 212420087,
            "min": 0,
            "orientation": "horizontal",
            "style": "IPY_MODEL_428331c7d81d4989a0d2f82b5fed9928",
            "value": 212420087
          }
        },
        "8804cbc322bf41b59f55001a9197d590": {
          "model_module": "@jupyter-widgets/controls",
          "model_name": "HTMLModel",
          "model_module_version": "1.5.0",
          "state": {
            "_dom_classes": [],
            "_model_module": "@jupyter-widgets/controls",
            "_model_module_version": "1.5.0",
            "_model_name": "HTMLModel",
            "_view_count": null,
            "_view_module": "@jupyter-widgets/controls",
            "_view_module_version": "1.5.0",
            "_view_name": "HTMLView",
            "description": "",
            "description_tooltip": null,
            "layout": "IPY_MODEL_c14ca564372e40fcb44e25f1fbe75227",
            "placeholder": "​",
            "style": "IPY_MODEL_4bf674b8a5d94adca8cbf45d49fba905",
            "value": " 212M/212M [00:03&lt;00:00, 59.5MB/s]"
          }
        },
        "cd5ba72a3b71438498ec3042a62597ec": {
          "model_module": "@jupyter-widgets/base",
          "model_name": "LayoutModel",
          "model_module_version": "1.2.0",
          "state": {
            "_model_module": "@jupyter-widgets/base",
            "_model_module_version": "1.2.0",
            "_model_name": "LayoutModel",
            "_view_count": null,
            "_view_module": "@jupyter-widgets/base",
            "_view_module_version": "1.2.0",
            "_view_name": "LayoutView",
            "align_content": null,
            "align_items": null,
            "align_self": null,
            "border": null,
            "bottom": null,
            "display": null,
            "flex": null,
            "flex_flow": null,
            "grid_area": null,
            "grid_auto_columns": null,
            "grid_auto_flow": null,
            "grid_auto_rows": null,
            "grid_column": null,
            "grid_gap": null,
            "grid_row": null,
            "grid_template_areas": null,
            "grid_template_columns": null,
            "grid_template_rows": null,
            "height": null,
            "justify_content": null,
            "justify_items": null,
            "left": null,
            "margin": null,
            "max_height": null,
            "max_width": null,
            "min_height": null,
            "min_width": null,
            "object_fit": null,
            "object_position": null,
            "order": null,
            "overflow": null,
            "overflow_x": null,
            "overflow_y": null,
            "padding": null,
            "right": null,
            "top": null,
            "visibility": null,
            "width": null
          }
        },
        "24869e7fde0b4b99874c323cf2061ec1": {
          "model_module": "@jupyter-widgets/base",
          "model_name": "LayoutModel",
          "model_module_version": "1.2.0",
          "state": {
            "_model_module": "@jupyter-widgets/base",
            "_model_module_version": "1.2.0",
            "_model_name": "LayoutModel",
            "_view_count": null,
            "_view_module": "@jupyter-widgets/base",
            "_view_module_version": "1.2.0",
            "_view_name": "LayoutView",
            "align_content": null,
            "align_items": null,
            "align_self": null,
            "border": null,
            "bottom": null,
            "display": null,
            "flex": null,
            "flex_flow": null,
            "grid_area": null,
            "grid_auto_columns": null,
            "grid_auto_flow": null,
            "grid_auto_rows": null,
            "grid_column": null,
            "grid_gap": null,
            "grid_row": null,
            "grid_template_areas": null,
            "grid_template_columns": null,
            "grid_template_rows": null,
            "height": null,
            "justify_content": null,
            "justify_items": null,
            "left": null,
            "margin": null,
            "max_height": null,
            "max_width": null,
            "min_height": null,
            "min_width": null,
            "object_fit": null,
            "object_position": null,
            "order": null,
            "overflow": null,
            "overflow_x": null,
            "overflow_y": null,
            "padding": null,
            "right": null,
            "top": null,
            "visibility": null,
            "width": null
          }
        },
        "02cecdaf2d8c4243a7d50bc61d41ad7a": {
          "model_module": "@jupyter-widgets/controls",
          "model_name": "DescriptionStyleModel",
          "model_module_version": "1.5.0",
          "state": {
            "_model_module": "@jupyter-widgets/controls",
            "_model_module_version": "1.5.0",
            "_model_name": "DescriptionStyleModel",
            "_view_count": null,
            "_view_module": "@jupyter-widgets/base",
            "_view_module_version": "1.2.0",
            "_view_name": "StyleView",
            "description_width": ""
          }
        },
        "4cd70808a99f451a9172705fad08fee2": {
          "model_module": "@jupyter-widgets/base",
          "model_name": "LayoutModel",
          "model_module_version": "1.2.0",
          "state": {
            "_model_module": "@jupyter-widgets/base",
            "_model_module_version": "1.2.0",
            "_model_name": "LayoutModel",
            "_view_count": null,
            "_view_module": "@jupyter-widgets/base",
            "_view_module_version": "1.2.0",
            "_view_name": "LayoutView",
            "align_content": null,
            "align_items": null,
            "align_self": null,
            "border": null,
            "bottom": null,
            "display": null,
            "flex": null,
            "flex_flow": null,
            "grid_area": null,
            "grid_auto_columns": null,
            "grid_auto_flow": null,
            "grid_auto_rows": null,
            "grid_column": null,
            "grid_gap": null,
            "grid_row": null,
            "grid_template_areas": null,
            "grid_template_columns": null,
            "grid_template_rows": null,
            "height": null,
            "justify_content": null,
            "justify_items": null,
            "left": null,
            "margin": null,
            "max_height": null,
            "max_width": null,
            "min_height": null,
            "min_width": null,
            "object_fit": null,
            "object_position": null,
            "order": null,
            "overflow": null,
            "overflow_x": null,
            "overflow_y": null,
            "padding": null,
            "right": null,
            "top": null,
            "visibility": null,
            "width": null
          }
        },
        "428331c7d81d4989a0d2f82b5fed9928": {
          "model_module": "@jupyter-widgets/controls",
          "model_name": "ProgressStyleModel",
          "model_module_version": "1.5.0",
          "state": {
            "_model_module": "@jupyter-widgets/controls",
            "_model_module_version": "1.5.0",
            "_model_name": "ProgressStyleModel",
            "_view_count": null,
            "_view_module": "@jupyter-widgets/base",
            "_view_module_version": "1.2.0",
            "_view_name": "StyleView",
            "bar_color": null,
            "description_width": ""
          }
        },
        "c14ca564372e40fcb44e25f1fbe75227": {
          "model_module": "@jupyter-widgets/base",
          "model_name": "LayoutModel",
          "model_module_version": "1.2.0",
          "state": {
            "_model_module": "@jupyter-widgets/base",
            "_model_module_version": "1.2.0",
            "_model_name": "LayoutModel",
            "_view_count": null,
            "_view_module": "@jupyter-widgets/base",
            "_view_module_version": "1.2.0",
            "_view_name": "LayoutView",
            "align_content": null,
            "align_items": null,
            "align_self": null,
            "border": null,
            "bottom": null,
            "display": null,
            "flex": null,
            "flex_flow": null,
            "grid_area": null,
            "grid_auto_columns": null,
            "grid_auto_flow": null,
            "grid_auto_rows": null,
            "grid_column": null,
            "grid_gap": null,
            "grid_row": null,
            "grid_template_areas": null,
            "grid_template_columns": null,
            "grid_template_rows": null,
            "height": null,
            "justify_content": null,
            "justify_items": null,
            "left": null,
            "margin": null,
            "max_height": null,
            "max_width": null,
            "min_height": null,
            "min_width": null,
            "object_fit": null,
            "object_position": null,
            "order": null,
            "overflow": null,
            "overflow_x": null,
            "overflow_y": null,
            "padding": null,
            "right": null,
            "top": null,
            "visibility": null,
            "width": null
          }
        },
        "4bf674b8a5d94adca8cbf45d49fba905": {
          "model_module": "@jupyter-widgets/controls",
          "model_name": "DescriptionStyleModel",
          "model_module_version": "1.5.0",
          "state": {
            "_model_module": "@jupyter-widgets/controls",
            "_model_module_version": "1.5.0",
            "_model_name": "DescriptionStyleModel",
            "_view_count": null,
            "_view_module": "@jupyter-widgets/base",
            "_view_module_version": "1.2.0",
            "_view_name": "StyleView",
            "description_width": ""
          }
        },
        "05a946a6ff32479ca9c6a2e3b4ef481f": {
          "model_module": "@jupyter-widgets/controls",
          "model_name": "HBoxModel",
          "model_module_version": "1.5.0",
          "state": {
            "_dom_classes": [],
            "_model_module": "@jupyter-widgets/controls",
            "_model_module_version": "1.5.0",
            "_model_name": "HBoxModel",
            "_view_count": null,
            "_view_module": "@jupyter-widgets/controls",
            "_view_module_version": "1.5.0",
            "_view_name": "HBoxView",
            "box_style": "",
            "children": [
              "IPY_MODEL_cf3c16e5d226446f9f2145599aa673f8",
              "IPY_MODEL_5d939b1db6074df3b3252fa9c6656c43",
              "IPY_MODEL_49320aa4aae9402fa910e375723a96b3"
            ],
            "layout": "IPY_MODEL_8752f477e4e14d26963f615c144d815a"
          }
        },
        "cf3c16e5d226446f9f2145599aa673f8": {
          "model_module": "@jupyter-widgets/controls",
          "model_name": "HTMLModel",
          "model_module_version": "1.5.0",
          "state": {
            "_dom_classes": [],
            "_model_module": "@jupyter-widgets/controls",
            "_model_module_version": "1.5.0",
            "_model_name": "HTMLModel",
            "_view_count": null,
            "_view_module": "@jupyter-widgets/controls",
            "_view_module_version": "1.5.0",
            "_view_name": "HTMLView",
            "description": "",
            "description_tooltip": null,
            "layout": "IPY_MODEL_0baef6c5ecf942589b43ad61586ba16a",
            "placeholder": "​",
            "style": "IPY_MODEL_4bb6eb82e6d54082a9f330ba04ea7eb0",
            "value": "Downloading: 100%"
          }
        },
        "5d939b1db6074df3b3252fa9c6656c43": {
          "model_module": "@jupyter-widgets/controls",
          "model_name": "FloatProgressModel",
          "model_module_version": "1.5.0",
          "state": {
            "_dom_classes": [],
            "_model_module": "@jupyter-widgets/controls",
            "_model_module_version": "1.5.0",
            "_model_name": "FloatProgressModel",
            "_view_count": null,
            "_view_module": "@jupyter-widgets/controls",
            "_view_module_version": "1.5.0",
            "_view_name": "ProgressView",
            "bar_style": "success",
            "description": "",
            "description_tooltip": null,
            "layout": "IPY_MODEL_9d2217a32b704099a1c44c76dbb514bf",
            "max": 253217,
            "min": 0,
            "orientation": "horizontal",
            "style": "IPY_MODEL_4638deaa8aec4ecabeba6fc28b5f8de1",
            "value": 253217
          }
        },
        "49320aa4aae9402fa910e375723a96b3": {
          "model_module": "@jupyter-widgets/controls",
          "model_name": "HTMLModel",
          "model_module_version": "1.5.0",
          "state": {
            "_dom_classes": [],
            "_model_module": "@jupyter-widgets/controls",
            "_model_module_version": "1.5.0",
            "_model_name": "HTMLModel",
            "_view_count": null,
            "_view_module": "@jupyter-widgets/controls",
            "_view_module_version": "1.5.0",
            "_view_name": "HTMLView",
            "description": "",
            "description_tooltip": null,
            "layout": "IPY_MODEL_1919e137acef482989045c48a581470f",
            "placeholder": "​",
            "style": "IPY_MODEL_ce23291c80c448368152c4c29dd4bffd",
            "value": " 253k/253k [00:00&lt;00:00, 5.80MB/s]"
          }
        },
        "8752f477e4e14d26963f615c144d815a": {
          "model_module": "@jupyter-widgets/base",
          "model_name": "LayoutModel",
          "model_module_version": "1.2.0",
          "state": {
            "_model_module": "@jupyter-widgets/base",
            "_model_module_version": "1.2.0",
            "_model_name": "LayoutModel",
            "_view_count": null,
            "_view_module": "@jupyter-widgets/base",
            "_view_module_version": "1.2.0",
            "_view_name": "LayoutView",
            "align_content": null,
            "align_items": null,
            "align_self": null,
            "border": null,
            "bottom": null,
            "display": null,
            "flex": null,
            "flex_flow": null,
            "grid_area": null,
            "grid_auto_columns": null,
            "grid_auto_flow": null,
            "grid_auto_rows": null,
            "grid_column": null,
            "grid_gap": null,
            "grid_row": null,
            "grid_template_areas": null,
            "grid_template_columns": null,
            "grid_template_rows": null,
            "height": null,
            "justify_content": null,
            "justify_items": null,
            "left": null,
            "margin": null,
            "max_height": null,
            "max_width": null,
            "min_height": null,
            "min_width": null,
            "object_fit": null,
            "object_position": null,
            "order": null,
            "overflow": null,
            "overflow_x": null,
            "overflow_y": null,
            "padding": null,
            "right": null,
            "top": null,
            "visibility": null,
            "width": null
          }
        },
        "0baef6c5ecf942589b43ad61586ba16a": {
          "model_module": "@jupyter-widgets/base",
          "model_name": "LayoutModel",
          "model_module_version": "1.2.0",
          "state": {
            "_model_module": "@jupyter-widgets/base",
            "_model_module_version": "1.2.0",
            "_model_name": "LayoutModel",
            "_view_count": null,
            "_view_module": "@jupyter-widgets/base",
            "_view_module_version": "1.2.0",
            "_view_name": "LayoutView",
            "align_content": null,
            "align_items": null,
            "align_self": null,
            "border": null,
            "bottom": null,
            "display": null,
            "flex": null,
            "flex_flow": null,
            "grid_area": null,
            "grid_auto_columns": null,
            "grid_auto_flow": null,
            "grid_auto_rows": null,
            "grid_column": null,
            "grid_gap": null,
            "grid_row": null,
            "grid_template_areas": null,
            "grid_template_columns": null,
            "grid_template_rows": null,
            "height": null,
            "justify_content": null,
            "justify_items": null,
            "left": null,
            "margin": null,
            "max_height": null,
            "max_width": null,
            "min_height": null,
            "min_width": null,
            "object_fit": null,
            "object_position": null,
            "order": null,
            "overflow": null,
            "overflow_x": null,
            "overflow_y": null,
            "padding": null,
            "right": null,
            "top": null,
            "visibility": null,
            "width": null
          }
        },
        "4bb6eb82e6d54082a9f330ba04ea7eb0": {
          "model_module": "@jupyter-widgets/controls",
          "model_name": "DescriptionStyleModel",
          "model_module_version": "1.5.0",
          "state": {
            "_model_module": "@jupyter-widgets/controls",
            "_model_module_version": "1.5.0",
            "_model_name": "DescriptionStyleModel",
            "_view_count": null,
            "_view_module": "@jupyter-widgets/base",
            "_view_module_version": "1.2.0",
            "_view_name": "StyleView",
            "description_width": ""
          }
        },
        "9d2217a32b704099a1c44c76dbb514bf": {
          "model_module": "@jupyter-widgets/base",
          "model_name": "LayoutModel",
          "model_module_version": "1.2.0",
          "state": {
            "_model_module": "@jupyter-widgets/base",
            "_model_module_version": "1.2.0",
            "_model_name": "LayoutModel",
            "_view_count": null,
            "_view_module": "@jupyter-widgets/base",
            "_view_module_version": "1.2.0",
            "_view_name": "LayoutView",
            "align_content": null,
            "align_items": null,
            "align_self": null,
            "border": null,
            "bottom": null,
            "display": null,
            "flex": null,
            "flex_flow": null,
            "grid_area": null,
            "grid_auto_columns": null,
            "grid_auto_flow": null,
            "grid_auto_rows": null,
            "grid_column": null,
            "grid_gap": null,
            "grid_row": null,
            "grid_template_areas": null,
            "grid_template_columns": null,
            "grid_template_rows": null,
            "height": null,
            "justify_content": null,
            "justify_items": null,
            "left": null,
            "margin": null,
            "max_height": null,
            "max_width": null,
            "min_height": null,
            "min_width": null,
            "object_fit": null,
            "object_position": null,
            "order": null,
            "overflow": null,
            "overflow_x": null,
            "overflow_y": null,
            "padding": null,
            "right": null,
            "top": null,
            "visibility": null,
            "width": null
          }
        },
        "4638deaa8aec4ecabeba6fc28b5f8de1": {
          "model_module": "@jupyter-widgets/controls",
          "model_name": "ProgressStyleModel",
          "model_module_version": "1.5.0",
          "state": {
            "_model_module": "@jupyter-widgets/controls",
            "_model_module_version": "1.5.0",
            "_model_name": "ProgressStyleModel",
            "_view_count": null,
            "_view_module": "@jupyter-widgets/base",
            "_view_module_version": "1.2.0",
            "_view_name": "StyleView",
            "bar_color": null,
            "description_width": ""
          }
        },
        "1919e137acef482989045c48a581470f": {
          "model_module": "@jupyter-widgets/base",
          "model_name": "LayoutModel",
          "model_module_version": "1.2.0",
          "state": {
            "_model_module": "@jupyter-widgets/base",
            "_model_module_version": "1.2.0",
            "_model_name": "LayoutModel",
            "_view_count": null,
            "_view_module": "@jupyter-widgets/base",
            "_view_module_version": "1.2.0",
            "_view_name": "LayoutView",
            "align_content": null,
            "align_items": null,
            "align_self": null,
            "border": null,
            "bottom": null,
            "display": null,
            "flex": null,
            "flex_flow": null,
            "grid_area": null,
            "grid_auto_columns": null,
            "grid_auto_flow": null,
            "grid_auto_rows": null,
            "grid_column": null,
            "grid_gap": null,
            "grid_row": null,
            "grid_template_areas": null,
            "grid_template_columns": null,
            "grid_template_rows": null,
            "height": null,
            "justify_content": null,
            "justify_items": null,
            "left": null,
            "margin": null,
            "max_height": null,
            "max_width": null,
            "min_height": null,
            "min_width": null,
            "object_fit": null,
            "object_position": null,
            "order": null,
            "overflow": null,
            "overflow_x": null,
            "overflow_y": null,
            "padding": null,
            "right": null,
            "top": null,
            "visibility": null,
            "width": null
          }
        },
        "ce23291c80c448368152c4c29dd4bffd": {
          "model_module": "@jupyter-widgets/controls",
          "model_name": "DescriptionStyleModel",
          "model_module_version": "1.5.0",
          "state": {
            "_model_module": "@jupyter-widgets/controls",
            "_model_module_version": "1.5.0",
            "_model_name": "DescriptionStyleModel",
            "_view_count": null,
            "_view_module": "@jupyter-widgets/base",
            "_view_module_version": "1.2.0",
            "_view_name": "StyleView",
            "description_width": ""
          }
        }
      }
    }
  },
  "cells": [
    {
      "cell_type": "markdown",
      "metadata": {
        "id": "view-in-github",
        "colab_type": "text"
      },
      "source": [
        "<a href=\"https://colab.research.google.com/github/aliaman36/FYDP/blob/main/SPEECHBRAIN%20TUTORIALS/Fine_tuning_a_ASR_model.ipynb\" target=\"_parent\"><img src=\"https://colab.research.google.com/assets/colab-badge.svg\" alt=\"Open In Colab\"/></a>"
      ]
    },
    {
      "cell_type": "markdown",
      "source": [
        "##INSTALLATION"
      ],
      "metadata": {
        "id": "UV8HUW9CYJWF"
      }
    },
    {
      "cell_type": "code",
      "execution_count": null,
      "metadata": {
        "id": "2GHhjyieXwhX"
      },
      "outputs": [],
      "source": [
        "%%capture\n",
        "!pip install speechbrain\n",
        "\n",
        "# Local installation\n",
        "!git clone https://github.com/speechbrain/speechbrain/\n",
        "%cd /content/speechbrain/\n",
        "!pip install -r requirements.txt\n",
        "!pip install -e ."
      ]
    },
    {
      "cell_type": "markdown",
      "source": [
        "##DATA DOWNLOADING"
      ],
      "metadata": {
        "id": "ALlFxyyDYcP4"
      }
    },
    {
      "cell_type": "code",
      "source": [
        "%%capture\n",
        "import speechbrain \n",
        "# here we download the material needed for this tutorial: images and an example based on mini-librispeech\n",
        "!wget https://www.dropbox.com/s/b61lo6gkpuplanq/MiniLibriSpeechTutorial.tar.gz?dl=0\n",
        "!tar -xvzf MiniLibriSpeechTutorial.tar.gz?dl=0\n",
        "# downloading mini_librispeech dev data\n",
        "!wget https://www.openslr.org/resources/31/dev-clean-2.tar.gz\n",
        "!tar -xvzf dev-clean-2.tar.gz"
      ],
      "metadata": {
        "id": "f0Vmp53AYjzD"
      },
      "execution_count": null,
      "outputs": []
    },
    {
      "cell_type": "markdown",
      "source": [
        "##SPEECH RECOGNITION"
      ],
      "metadata": {
        "id": "Wb7Za8yvZoeI"
      }
    },
    {
      "cell_type": "markdown",
      "source": [
        "Suppose we want to try out a pretrained ASR model on your data. \n",
        "\n",
        "Maybe we want to see if our new speech enhancement algorithm is able to also improve Word Error Rate or maybe we just want to transcribe a lecture recording. \n",
        "\n",
        "After browsing models on <img src=\"https://huggingface.co/front/assets/huggingface_logo.svg\" alt=\"drawing\" width=\"20\"/>[HuggingFace](https://huggingface.co/models)<img src=\"https://huggingface.co/front/assets/huggingface_logo.svg\" alt=\"drawing\" width=\"20\"/>, we choose the following ASR pipeline: [super cool and SOTA ASR pipeline](https://huggingface.co/speechbrain/asr-crdnn-rnnlm-librispeech), trained on LibriSpeech. \n",
        "\n",
        "This ASR pipeline is made of three components as detailed [here](https://huggingface.co/speechbrain/asr-crdnn-rnnlm-librispeech):\n",
        "\n",
        "\n",
        "1.   a CRDNN-based seq2seq E2E ASR model trained following this [recipe](https://github.com/speechbrain/speechbrain/tree/develop/recipes/LibriSpeech/ASR/seq2seq). \n",
        "2.   a RNN-based LM.\n",
        "3.   a SentencePiece Tokenizer object needed transforms words into subword units. \n",
        "\n",
        "**Now, we can transcribe any audio file in solely 3 lines of code!**"
      ],
      "metadata": {
        "id": "5h_Ln5NXZt6I"
      }
    },
    {
      "cell_type": "code",
      "source": [
        "from speechbrain.pretrained import EncoderDecoderASR\n",
        "asr_model = EncoderDecoderASR.from_hparams(source=\"speechbrain/asr-crdnn-rnnlm-librispeech\", savedir=\"./pretrained_ASR\")\n",
        "asr_model.transcribe_file(\"./LibriSpeech/dev-clean-2/1272/135031/1272-135031-0003.flac\")"
      ],
      "metadata": {
        "colab": {
          "base_uri": "https://localhost:8080/",
          "height": 195,
          "referenced_widgets": [
            "74d2456b435d41a384a0e59bead1492f",
            "124a19e8a61e4f4a9c3fdf0c63315e70",
            "ec79490dcb11443ea7460251b507da28",
            "5cb9328df096410593a83ab5364c8490",
            "1db3a4ee87364fdbbe8781eee44a794d",
            "f88534336498419cbe73974e7520f9ea",
            "ff6fffe332fa407fa76fc7b7e967bc68",
            "e89fa8b21a8b4d4c8c987d097b06ef45",
            "2f308cfa7a0e491ab2e97c107822368c",
            "57df5ade60d749a38fc846eec0fc5c6d",
            "b03adfaf8ca547869a3c6cf96523c07d",
            "e83502c751444db4824b1f50a3e443cb",
            "daff715d202d4052865242105b13744a",
            "1d51c6176d404fc48eed66f77f9bcf4d",
            "fd638f9c40c8442fba75290b11773b83",
            "f0fd6ac2d0d74cc1a0b3e4084f09c4d3",
            "ef4d5212db2f4763a65029c539ab7407",
            "f6fc9e4e41e74fc09da797f6edc62234",
            "223ce15f46ef496682d97d7c8f47259d",
            "5d726b1c27db4acc8bef79673c713998",
            "aef06712ca2144848bfb2912932d0b5c",
            "042be778084f421bb2f9c72628877109",
            "99a2d1b044254c58aeb87193ec364e76",
            "4adfdd7bf73e4f8495c0be64911ce430",
            "4918b4cc92514280a4f61e0a9c8da198",
            "a17d5acefc85475dbe2375edf18b996c",
            "31d7d7ff5e58419f8d3ea6f7e26635ce",
            "a5cbb336e076413d9ecf4e50767c87c7",
            "720af34814a84110a2ea39834828c904",
            "f983341c6b5e4194804256b146ca2775",
            "acb096c06fac4bbba6d46fe0c5a203c7",
            "d1770308aac0490a956b71f3ea049543",
            "b1aaee19358d46b38ff7df56be334e66",
            "ae8644d57689497ab4fbae3febaaf33b",
            "c63c252a3d0b406bbfbd7e634aa33fea",
            "04957a73980e446f90255bc4656f5c9f",
            "8804cbc322bf41b59f55001a9197d590",
            "cd5ba72a3b71438498ec3042a62597ec",
            "24869e7fde0b4b99874c323cf2061ec1",
            "02cecdaf2d8c4243a7d50bc61d41ad7a",
            "4cd70808a99f451a9172705fad08fee2",
            "428331c7d81d4989a0d2f82b5fed9928",
            "c14ca564372e40fcb44e25f1fbe75227",
            "4bf674b8a5d94adca8cbf45d49fba905",
            "05a946a6ff32479ca9c6a2e3b4ef481f",
            "cf3c16e5d226446f9f2145599aa673f8",
            "5d939b1db6074df3b3252fa9c6656c43",
            "49320aa4aae9402fa910e375723a96b3",
            "8752f477e4e14d26963f615c144d815a",
            "0baef6c5ecf942589b43ad61586ba16a",
            "4bb6eb82e6d54082a9f330ba04ea7eb0",
            "9d2217a32b704099a1c44c76dbb514bf",
            "4638deaa8aec4ecabeba6fc28b5f8de1",
            "1919e137acef482989045c48a581470f",
            "ce23291c80c448368152c4c29dd4bffd"
          ]
        },
        "id": "AHsiBOVCZ9Hv",
        "outputId": "1c83455e-f0db-44da-d1d5-632c1502a919"
      },
      "execution_count": null,
      "outputs": [
        {
          "output_type": "display_data",
          "data": {
            "text/plain": [
              "Downloading:   0%|          | 0.00/4.49k [00:00<?, ?B/s]"
            ],
            "application/vnd.jupyter.widget-view+json": {
              "version_major": 2,
              "version_minor": 0,
              "model_id": "74d2456b435d41a384a0e59bead1492f"
            }
          },
          "metadata": {}
        },
        {
          "output_type": "display_data",
          "data": {
            "text/plain": [
              "Downloading:   0%|          | 0.00/1.41k [00:00<?, ?B/s]"
            ],
            "application/vnd.jupyter.widget-view+json": {
              "version_major": 2,
              "version_minor": 0,
              "model_id": "e83502c751444db4824b1f50a3e443cb"
            }
          },
          "metadata": {}
        },
        {
          "output_type": "display_data",
          "data": {
            "text/plain": [
              "Downloading:   0%|          | 0.00/480M [00:00<?, ?B/s]"
            ],
            "application/vnd.jupyter.widget-view+json": {
              "version_major": 2,
              "version_minor": 0,
              "model_id": "99a2d1b044254c58aeb87193ec364e76"
            }
          },
          "metadata": {}
        },
        {
          "output_type": "display_data",
          "data": {
            "text/plain": [
              "Downloading:   0%|          | 0.00/212M [00:00<?, ?B/s]"
            ],
            "application/vnd.jupyter.widget-view+json": {
              "version_major": 2,
              "version_minor": 0,
              "model_id": "ae8644d57689497ab4fbae3febaaf33b"
            }
          },
          "metadata": {}
        },
        {
          "output_type": "display_data",
          "data": {
            "text/plain": [
              "Downloading:   0%|          | 0.00/253k [00:00<?, ?B/s]"
            ],
            "application/vnd.jupyter.widget-view+json": {
              "version_major": 2,
              "version_minor": 0,
              "model_id": "05a946a6ff32479ca9c6a2e3b4ef481f"
            }
          },
          "metadata": {}
        },
        {
          "output_type": "execute_result",
          "data": {
            "text/plain": [
              "'THE LITTLE GIRL HAD BEEN ASLEEP BUT SHE HEARD THE RAPS AND OPENED THE DOOR'"
            ],
            "application/vnd.google.colaboratory.intrinsic+json": {
              "type": "string"
            }
          },
          "metadata": {},
          "execution_count": 3
        }
      ]
    },
    {
      "cell_type": "markdown",
      "source": [
        "#Fine-tuning or using pretrained models as components of a new pipeline"
      ],
      "metadata": {
        "id": "IznWbuMgbypb"
      }
    },
    {
      "cell_type": "markdown",
      "source": [
        "First we can see that the pretrained `asr_model` allows to access easily all its components:\n"
      ],
      "metadata": {
        "id": "C1jnKEDccIMR"
      }
    },
    {
      "cell_type": "code",
      "source": [
        "asr_model.mods.keys()"
      ],
      "metadata": {
        "colab": {
          "base_uri": "https://localhost:8080/"
        },
        "id": "5Z5KvUbXcLzh",
        "outputId": "d84b40df-3b9a-4a44-d320-737265ed5488"
      },
      "execution_count": null,
      "outputs": [
        {
          "output_type": "execute_result",
          "data": {
            "text/plain": [
              "odict_keys(['normalizer', 'encoder', 'decoder', 'lm_model'])"
            ]
          },
          "metadata": {},
          "execution_count": 4
        }
      ]
    },
    {
      "cell_type": "markdown",
      "source": [
        "These keys corresponds to the modules entry specified in the [hyperparameter file](https://huggingface.co/speechbrain/asr-crdnn-rnnlm-librispeech/blob/main/hyperparams.yaml):\n",
        "\n",
        "\n",
        "```yaml\n",
        "modules:\n",
        "    encoder: !ref <encoder>\n",
        "    decoder: !ref <decoder>\n",
        "    lm_model: !ref <lm_model>\n",
        "```"
      ],
      "metadata": {
        "id": "h1rm3rVhc2c3"
      }
    },
    {
      "cell_type": "markdown",
      "source": [
        "We can also see that the encoder is actually composed of several sub-modules:\n",
        "\n",
        "```yaml\n",
        "encoder: !new:speechbrain.nnet.containers.LengthsCapableSequential\n",
        "    input_shape: [null, null, !ref <n_mels>]\n",
        "    compute_features: !ref <compute_features>\n",
        "    normalize: !ref <normalize>\n",
        "    model: !ref <enc>\n",
        "```"
      ],
      "metadata": {
        "id": "zgJMMFQQdYSm"
      }
    },
    {
      "cell_type": "markdown",
      "source": [
        "These are simply accessible as members of the encoder:"
      ],
      "metadata": {
        "id": "XeS9M4BDdb79"
      }
    },
    {
      "cell_type": "code",
      "source": [
        "asr_model.mods.encoder"
      ],
      "metadata": {
        "colab": {
          "base_uri": "https://localhost:8080/"
        },
        "id": "WFjx-kBUdg9a",
        "outputId": "bae6f530-d7ac-4299-85da-d278d2f6e61b"
      },
      "execution_count": null,
      "outputs": [
        {
          "output_type": "execute_result",
          "data": {
            "text/plain": [
              "LengthsCapableSequential(\n",
              "  (compute_features): Fbank(\n",
              "    (compute_STFT): STFT()\n",
              "    (compute_fbanks): Filterbank()\n",
              "    (compute_deltas): Deltas()\n",
              "    (context_window): ContextWindow()\n",
              "  )\n",
              "  (normalize): InputNormalization()\n",
              "  (model): CRDNN(\n",
              "    (CNN): Sequential(\n",
              "      (block_0): CNN_Block(\n",
              "        (conv_1): Conv2d(\n",
              "          (conv): Conv2d(1, 128, kernel_size=(3, 3), stride=(1, 1))\n",
              "        )\n",
              "        (norm_1): LayerNorm(\n",
              "          (norm): LayerNorm((40, 128), eps=1e-05, elementwise_affine=True)\n",
              "        )\n",
              "        (act_1): LeakyReLU(negative_slope=0.01)\n",
              "        (conv_2): Conv2d(\n",
              "          (conv): Conv2d(128, 128, kernel_size=(3, 3), stride=(1, 1))\n",
              "        )\n",
              "        (norm_2): LayerNorm(\n",
              "          (norm): LayerNorm((40, 128), eps=1e-05, elementwise_affine=True)\n",
              "        )\n",
              "        (act_2): LeakyReLU(negative_slope=0.01)\n",
              "        (pooling): Pooling1d(\n",
              "          (pool_layer): MaxPool2d(kernel_size=(1, 2), stride=(1, 2), padding=(0, 0), dilation=(1, 1), ceil_mode=False)\n",
              "        )\n",
              "        (drop): Dropout2d(\n",
              "          (drop): Dropout2d(p=0.15, inplace=False)\n",
              "        )\n",
              "      )\n",
              "      (block_1): CNN_Block(\n",
              "        (conv_1): Conv2d(\n",
              "          (conv): Conv2d(128, 256, kernel_size=(3, 3), stride=(1, 1))\n",
              "        )\n",
              "        (norm_1): LayerNorm(\n",
              "          (norm): LayerNorm((20, 256), eps=1e-05, elementwise_affine=True)\n",
              "        )\n",
              "        (act_1): LeakyReLU(negative_slope=0.01)\n",
              "        (conv_2): Conv2d(\n",
              "          (conv): Conv2d(256, 256, kernel_size=(3, 3), stride=(1, 1))\n",
              "        )\n",
              "        (norm_2): LayerNorm(\n",
              "          (norm): LayerNorm((20, 256), eps=1e-05, elementwise_affine=True)\n",
              "        )\n",
              "        (act_2): LeakyReLU(negative_slope=0.01)\n",
              "        (pooling): Pooling1d(\n",
              "          (pool_layer): MaxPool2d(kernel_size=(1, 2), stride=(1, 2), padding=(0, 0), dilation=(1, 1), ceil_mode=False)\n",
              "        )\n",
              "        (drop): Dropout2d(\n",
              "          (drop): Dropout2d(p=0.15, inplace=False)\n",
              "        )\n",
              "      )\n",
              "    )\n",
              "    (time_pooling): Pooling1d(\n",
              "      (pool_layer): MaxPool2d(kernel_size=(1, 4), stride=(1, 4), padding=(0, 0), dilation=(1, 1), ceil_mode=False)\n",
              "    )\n",
              "    (RNN): LSTM(\n",
              "      (rnn): LSTM(2560, 1024, num_layers=4, batch_first=True, dropout=0.15, bidirectional=True)\n",
              "    )\n",
              "    (DNN): Sequential(\n",
              "      (block_0): DNN_Block(\n",
              "        (linear): Linear(\n",
              "          (w): Linear(in_features=2048, out_features=512, bias=True)\n",
              "        )\n",
              "        (norm): BatchNorm1d(\n",
              "          (norm): BatchNorm1d(512, eps=1e-05, momentum=0.1, affine=True, track_running_stats=True)\n",
              "        )\n",
              "        (act): LeakyReLU(negative_slope=0.01)\n",
              "        (dropout): Dropout(p=0.15, inplace=False)\n",
              "      )\n",
              "      (block_1): DNN_Block(\n",
              "        (linear): Linear(\n",
              "          (w): Linear(in_features=512, out_features=512, bias=True)\n",
              "        )\n",
              "        (norm): BatchNorm1d(\n",
              "          (norm): BatchNorm1d(512, eps=1e-05, momentum=0.1, affine=True, track_running_stats=True)\n",
              "        )\n",
              "        (act): LeakyReLU(negative_slope=0.01)\n",
              "        (dropout): Dropout(p=0.15, inplace=False)\n",
              "      )\n",
              "    )\n",
              "  )\n",
              ")"
            ]
          },
          "metadata": {},
          "execution_count": 5
        }
      ]
    },
    {
      "cell_type": "code",
      "source": [
        "asr_model.mods.encoder.compute_features"
      ],
      "metadata": {
        "colab": {
          "base_uri": "https://localhost:8080/"
        },
        "id": "6BD4hpVldpn1",
        "outputId": "9d10c698-dbb7-4395-9db6-557dd20dda01"
      },
      "execution_count": null,
      "outputs": [
        {
          "output_type": "execute_result",
          "data": {
            "text/plain": [
              "Fbank(\n",
              "  (compute_STFT): STFT()\n",
              "  (compute_fbanks): Filterbank()\n",
              "  (compute_deltas): Deltas()\n",
              "  (context_window): ContextWindow()\n",
              ")"
            ]
          },
          "metadata": {},
          "execution_count": 4
        }
      ]
    },
    {
      "cell_type": "markdown",
      "source": [
        "The training hyperparameters also can be easily accessed: "
      ],
      "metadata": {
        "id": "xQwRnXtAeG10"
      }
    },
    {
      "cell_type": "code",
      "source": [
        "dir(asr_model.hparams)"
      ],
      "metadata": {
        "colab": {
          "base_uri": "https://localhost:8080/"
        },
        "id": "DZbt9uuNeID8",
        "outputId": "5386def8-86d4-496c-8505-828c3be37c8d"
      },
      "execution_count": null,
      "outputs": [
        {
          "output_type": "execute_result",
          "data": {
            "text/plain": [
              "['__class__',\n",
              " '__delattr__',\n",
              " '__dict__',\n",
              " '__dir__',\n",
              " '__doc__',\n",
              " '__eq__',\n",
              " '__format__',\n",
              " '__ge__',\n",
              " '__getattribute__',\n",
              " '__gt__',\n",
              " '__hash__',\n",
              " '__init__',\n",
              " '__init_subclass__',\n",
              " '__le__',\n",
              " '__lt__',\n",
              " '__ne__',\n",
              " '__new__',\n",
              " '__reduce__',\n",
              " '__reduce_ex__',\n",
              " '__repr__',\n",
              " '__setattr__',\n",
              " '__sizeof__',\n",
              " '__str__',\n",
              " '__subclasshook__',\n",
              " 'activation',\n",
              " 'asr_model',\n",
              " 'beam_size',\n",
              " 'blank_index',\n",
              " 'bos_index',\n",
              " 'cnn_blocks',\n",
              " 'cnn_channels',\n",
              " 'cnn_kernelsize',\n",
              " 'compute_features',\n",
              " 'coverage_penalty',\n",
              " 'ctc_lin',\n",
              " 'dec',\n",
              " 'dec_neurons',\n",
              " 'decoder',\n",
              " 'dnn_blocks',\n",
              " 'dnn_neurons',\n",
              " 'dropout',\n",
              " 'emb',\n",
              " 'emb_size',\n",
              " 'enc',\n",
              " 'encoder',\n",
              " 'eos_index',\n",
              " 'eos_threshold',\n",
              " 'inter_layer_pooling_size',\n",
              " 'lm_model',\n",
              " 'lm_weight',\n",
              " 'log_softmax',\n",
              " 'max_attn_shift',\n",
              " 'max_decode_ratio',\n",
              " 'min_decode_ratio',\n",
              " 'modules',\n",
              " 'n_fft',\n",
              " 'n_mels',\n",
              " 'normalizer',\n",
              " 'output_neurons',\n",
              " 'pretrainer',\n",
              " 'rnn_bidirectional',\n",
              " 'rnn_class',\n",
              " 'rnn_layers',\n",
              " 'rnn_neurons',\n",
              " 'sample_rate',\n",
              " 'seq_lin',\n",
              " 'temperature',\n",
              " 'temperature_lm',\n",
              " 'time_pooling_size',\n",
              " 'tokenizer',\n",
              " 'using_max_attn_shift']"
            ]
          },
          "metadata": {},
          "execution_count": 8
        }
      ]
    },
    {
      "cell_type": "markdown",
      "source": [
        "#Setting up the data pipeline"
      ],
      "metadata": {
        "id": "hpKIfdRQehsj"
      }
    },
    {
      "cell_type": "markdown",
      "source": [
        "converting data file into json format"
      ],
      "metadata": {
        "id": "TPnwDtDBevEK"
      }
    },
    {
      "cell_type": "code",
      "source": [
        "import speechbrain as sb\n",
        "import torch\n",
        "\n",
        "from parse_data import parse_to_json # parse_data is a local library downloaded before (see Installing Dependencies step) \n",
        "parse_to_json(\"./LibriSpeech/dev-clean-2\")"
      ],
      "metadata": {
        "id": "R2NaFheleoZj"
      },
      "execution_count": null,
      "outputs": []
    },
    {
      "cell_type": "markdown",
      "source": [
        "creating dataset (dynamic: can be changed wrt to time i.e you can add data)"
      ],
      "metadata": {
        "id": "HBtZKXy_kRA8"
      }
    },
    {
      "cell_type": "code",
      "source": [
        "from speechbrain.dataio.dataset import DynamicItemDataset\n",
        "dataset = DynamicItemDataset.from_json(\"data.json\")"
      ],
      "metadata": {
        "id": "zh84FiLjjsf1"
      },
      "execution_count": null,
      "outputs": []
    },
    {
      "cell_type": "code",
      "source": [
        "dataset = dataset.filtered_sorted(sort_key=\"length\", select_n=100)\n",
        "# we limit the dataset to 100 utterances to keep the trainin short in this Colab example\n",
        "dataset.add_dynamic_item(sb.dataio.dataio.read_audio, takes=\"file_path\", provides=\"signal\")"
      ],
      "metadata": {
        "id": "4JaKeYNrjxNE"
      },
      "execution_count": null,
      "outputs": []
    },
    {
      "cell_type": "markdown",
      "source": [
        "It is worth noting that we use the Tokenizer object obtained from the pretrained `asr_model` and  that we encode the words with `asr_model.tokenizer.encode_as_ids(words)`. We also reuse `asr_model` `eos_index` and `bos_index` accessed via `asr_model.hparams` to ensure that all these parameters correspond to the ones used at pretraining time! "
      ],
      "metadata": {
        "id": "x4gTDW-Qk0K6"
      }
    },
    {
      "cell_type": "code",
      "source": [
        "# 3. Define text pipeline:\n",
        "@sb.utils.data_pipeline.takes(\"words\")\n",
        "@sb.utils.data_pipeline.provides(\n",
        "        \"words\", \"tokens_list\", \"tokens_bos\", \"tokens_eos\", \"tokens\")\n",
        "def text_pipeline(words):\n",
        "      yield words\n",
        "      tokens_list = asr_model.tokenizer.encode_as_ids(words)\n",
        "      yield tokens_list\n",
        "      tokens_bos = torch.LongTensor([asr_model.hparams.bos_index] + (tokens_list))\n",
        "      yield tokens_bos\n",
        "      tokens_eos = torch.LongTensor(tokens_list + [asr_model.hparams.eos_index]) # we use same eos and bos indexes as in pretrained model\n",
        "      yield tokens_eos\n",
        "      tokens = torch.LongTensor(tokens_list)\n",
        "      yield tokens"
      ],
      "metadata": {
        "id": "pf75_H6Kj43r"
      },
      "execution_count": null,
      "outputs": []
    },
    {
      "cell_type": "code",
      "source": [
        "dataset.add_dynamic_item(text_pipeline) #adding above from the pre-trained model in the dataset"
      ],
      "metadata": {
        "id": "G-G9U80Kj7nk"
      },
      "execution_count": null,
      "outputs": []
    },
    {
      "cell_type": "markdown",
      "source": [
        "We set the dataset object to return the signal tensor as well as the encoded tokens and words. "
      ],
      "metadata": {
        "id": "mrmM9V5PlKuJ"
      }
    },
    {
      "cell_type": "code",
      "source": [
        "dataset.set_output_keys([\"id\", \"signal\", \"words\", \"tokens_list\", \"tokens_bos\", \"tokens_eos\", \"tokens\"])\n",
        "dataset[0]"
      ],
      "metadata": {
        "colab": {
          "base_uri": "https://localhost:8080/"
        },
        "id": "KQ36afrgj-Bs",
        "outputId": "cd96bd40-7ec4-450d-9547-9bb9f95168e1"
      },
      "execution_count": null,
      "outputs": [
        {
          "output_type": "execute_result",
          "data": {
            "text/plain": [
              "{'id': '5338-284437-0014',\n",
              " 'signal': tensor([ 2.1362e-04,  6.1035e-05, -3.0518e-05,  ...,  3.0518e-04,\n",
              "          3.9673e-04,  3.9673e-04]),\n",
              " 'words': 'ARE YOU A GIANT',\n",
              " 'tokens_list': [128, 37, 5, 107, 343, 7],\n",
              " 'tokens_bos': tensor([  0, 128,  37,   5, 107, 343,   7]),\n",
              " 'tokens_eos': tensor([128,  37,   5, 107, 343,   7,   0]),\n",
              " 'tokens': tensor([128,  37,   5, 107, 343,   7])}"
            ]
          },
          "metadata": {},
          "execution_count": 12
        }
      ]
    },
    {
      "cell_type": "markdown",
      "source": [
        "#Fine-Tuning\n",
        "\n",
        "First, We define our Brain class that will perform the fine-tuning. Here, we just take an example similar to the Brain class of the original [Seq2Seq LibriSpeech recipe](https://github.com/speechbrain/speechbrain/blob/develop/recipes/LibriSpeech/ASR/seq2seq/train.py)."
      ],
      "metadata": {
        "id": "5CnEv1IRldYn"
      }
    },
    {
      "cell_type": "code",
      "source": [
        "from speechbrain.lobes.features import Fbank\n",
        "import torch \n",
        "\n",
        "# Define fine-tuning procedure \n",
        "class EncDecFineTune(sb.Brain):\n",
        "\n",
        "    def on_stage_start(self, stage, epoch):\n",
        "        # enable grad for all modules we want to fine-tune\n",
        "        if stage == sb.Stage.TRAIN:\n",
        "            for module in [self.modules.enc, self.modules.emb, self.modules.dec, self.modules.seq_lin]:\n",
        "                for p in module.parameters():\n",
        "                    p.requires_grad = True\n",
        "     \n",
        "    def compute_forward(self, batch, stage):\n",
        "        \"\"\"Forward computations from the waveform batches to the output probabilities.\"\"\"\n",
        "        batch = batch.to(self.device)\n",
        "        wavs, wav_lens = batch.signal\n",
        "        tokens_bos, _ = batch.tokens_bos\n",
        "        wavs, wav_lens = wavs.to(self.device), wav_lens.to(self.device)\n",
        "\n",
        "        # Forward pass\n",
        "        feats = self.modules.compute_features(wavs)\n",
        "        feats = self.modules.normalize(feats, wav_lens)\n",
        "        #feats.requires_grad = True\n",
        "        x = self.modules.enc(feats)\n",
        "        \n",
        "        e_in = self.modules.emb(tokens_bos)  # y_in bos + tokens\n",
        "        h, _ = self.modules.dec(e_in, x, wav_lens)\n",
        "\n",
        "        # Output layer for seq2seq log-probabilities\n",
        "        logits = self.modules.seq_lin(h)\n",
        "        p_seq = self.hparams.log_softmax(logits)\n",
        "\n",
        "        return p_seq, wav_lens\n",
        "\n",
        "    def compute_objectives(self, predictions, batch, stage):\n",
        "        \"\"\"Computes the loss (CTC+NLL) given predictions and targets.\"\"\"\n",
        "\n",
        "        \n",
        "        p_seq, wav_lens = predictions\n",
        "\n",
        "        ids = batch.id\n",
        "        tokens_eos, tokens_eos_lens = batch.tokens_eos\n",
        "        tokens, tokens_lens = batch.tokens\n",
        "\n",
        "        loss = self.hparams.seq_cost(\n",
        "            p_seq, tokens_eos, tokens_eos_lens)\n",
        "        \n",
        "\n",
        "        return loss\n",
        "\n",
        "    def fit_batch(self, batch):\n",
        "        \"\"\"Train the parameters given a single batch in input\"\"\"\n",
        "        predictions = self.compute_forward(batch, sb.Stage.TRAIN)\n",
        "        loss = self.compute_objectives(predictions, batch, sb.Stage.TRAIN)\n",
        "        loss.backward()\n",
        "        if self.check_gradients(loss):\n",
        "            self.optimizer.step()\n",
        "        self.optimizer.zero_grad()\n",
        "        return loss.detach()"
      ],
      "metadata": {
        "id": "xaMrcZx6j-iz"
      },
      "execution_count": null,
      "outputs": []
    },
    {
      "cell_type": "markdown",
      "source": [
        "Here we define the modules and hyperparameters needed for the Brain class defined before.\n",
        "\n",
        "We fetch them directly from the pretrained model by accessing its `modules` and `hparams`. These can be found in the `hyperparams.yaml` file in the model [HuggingFace repo](https://huggingface.co/speechbrain/asr-crdnn-rnnlm-librispeech/blob/main/hyperparams.yaml)."
      ],
      "metadata": {
        "id": "W0V7V5RLoiUg"
      }
    },
    {
      "cell_type": "code",
      "source": [
        "modules = {\"enc\": asr_model.mods.encoder.model, \n",
        "           \"emb\": asr_model.hparams.emb,\n",
        "           \"dec\": asr_model.hparams.dec,\n",
        "           \"compute_features\": asr_model.mods.encoder.compute_features, # we use the same features \n",
        "           \"normalize\": asr_model.mods.encoder.normalize,\n",
        "           \"seq_lin\": asr_model.hparams.seq_lin, \n",
        "           \n",
        "          }\n",
        "\n",
        "hparams = {\"seq_cost\": lambda x, y, z: speechbrain.nnet.losses.nll_loss(x, y, z, label_smoothing = 0.1),\n",
        "            \"log_softmax\": speechbrain.nnet.activations.Softmax(apply_log=True)}\n",
        "\n",
        "brain = EncDecFineTune(modules, hparams=hparams, opt_class=lambda x: torch.optim.SGD(x, 1e-5))\n",
        "brain.tokenizer = asr_model.tokenizer"
      ],
      "metadata": {
        "id": "zyOoiuetojW4"
      },
      "execution_count": null,
      "outputs": []
    },
    {
      "cell_type": "markdown",
      "source": [
        "fine-tuning starts now:"
      ],
      "metadata": {
        "id": "uw45SZKWotxv"
      }
    },
    {
      "cell_type": "code",
      "source": [
        "brain.fit(range(2), train_set=dataset, \n",
        "          train_loader_kwargs={\"batch_size\": 8, \"drop_last\":True, \"shuffle\": False})"
      ],
      "metadata": {
        "colab": {
          "base_uri": "https://localhost:8080/"
        },
        "id": "69022yiOoyMP",
        "outputId": "c0f5a26d-bfc5-4800-93af-28d29beb87eb"
      },
      "execution_count": null,
      "outputs": [
        {
          "output_type": "stream",
          "name": "stderr",
          "text": [
            "100%|██████████| 12/12 [09:07<00:00, 45.60s/it, train_loss=1.2]\n",
            "100%|██████████| 12/12 [09:02<00:00, 45.22s/it, train_loss=1.19]\n"
          ]
        }
      ]
    },
    {
      "cell_type": "code",
      "source": [
        "asr_model.transcribe_file(\"./LibriSpeech/dev-clean-2/1462/170145/1462-170145-0000.flac\")"
      ],
      "metadata": {
        "colab": {
          "base_uri": "https://localhost:8080/",
          "height": 53
        },
        "id": "YEmJEckHqelL",
        "outputId": "0199067e-99c6-476a-d79f-d2617f148e88"
      },
      "execution_count": null,
      "outputs": [
        {
          "output_type": "execute_result",
          "data": {
            "text/plain": [
              "\"ON THE LAST SATURDAY IN APRIL THE NEW YORK TIMES PUBLISHED AN ACCOUNT OF THE STRIKE COMPLICATIONS WHICH WERE DELAYING ALEXANDER'S NEW JERSEY BRIDGE AND STATED THAT THE ENGINEER HIMSELF WAS IN TOWN AND AT HIS OFFICE ON WEST TENTH STREET\""
            ],
            "application/vnd.google.colaboratory.intrinsic+json": {
              "type": "string"
            }
          },
          "metadata": {},
          "execution_count": 20
        }
      ]
    },
    {
      "cell_type": "code",
      "source": [
        "asr_model.transcribe_file(\"./LibriSpeech/dev-clean-2/1272/135031/1272-135031-0003.flac\")"
      ],
      "metadata": {
        "colab": {
          "base_uri": "https://localhost:8080/",
          "height": 35
        },
        "id": "7jUZQp6yv0C0",
        "outputId": "f6c3be4f-9791-444f-cd75-73f9815f808a"
      },
      "execution_count": null,
      "outputs": [
        {
          "output_type": "execute_result",
          "data": {
            "text/plain": [
              "'THE LITTLE GIRL HAD BEEN ASLEEP BUT SHE HEARD THE RAPS AND OPENED THE DOOR'"
            ],
            "application/vnd.google.colaboratory.intrinsic+json": {
              "type": "string"
            }
          },
          "metadata": {},
          "execution_count": 19
        }
      ]
    }
  ]
}